{
 "cells": [
  {
   "cell_type": "code",
   "execution_count": null,
   "id": "55752db3",
   "metadata": {},
   "outputs": [],
   "source": [
    "from typing import Dict\n",
    "import json\n",
    "\n",
    "def load_servers(config_path: str) -> Dict:\n",
    "    \"\"\"Load server configuration from a JSON file (typically mcp_config.json)\n",
    "    and creates an instance of each server (no active connection until 'start' though).\n",
    "\n",
    "    Args:\n",
    "        config_path: Path to the JSON configuration file.\n",
    "    \"\"\"\n",
    "    with open(config_path, \"r\") as config_file:\n",
    "        config = json.load(config_file)\n",
    "\n",
    "    return config"
   ]
  },
  {
   "cell_type": "code",
   "execution_count": 4,
   "id": "a957a32e",
   "metadata": {},
   "outputs": [],
   "source": [
    "from fastmcp import Client, FastMCP\n",
    "server_instance = FastMCP(name=\"TestServer\") # In-memory server"
   ]
  },
  {
   "cell_type": "code",
   "execution_count": 19,
   "id": "0d7597b7",
   "metadata": {},
   "outputs": [
    {
     "name": "stdout",
     "output_type": "stream",
     "text": [
      "Loaded servers: {'mcpServers': {'filesystem': {'command': 'npx', 'args': ['-y', '@modelcontextprotocol/server-filesystem', 'C:/Users/dev/Dropbox/GitHub/mcp_local']}, 'playwright': {'command': 'npx', 'args': ['@playwright/mcp@latest'], 'transport': 'stdio'}, 'everything': {'command': 'npx', 'args': ['-y', '@modelcontextprotocol/server-everything'], 'transport': 'stdio'}}}\n"
     ]
    }
   ],
   "source": [
    "mcp_servers = load_servers(\"mcp_config.json\")\n",
    "print(\"Loaded servers:\", mcp_servers)"
   ]
  },
  {
   "cell_type": "code",
   "execution_count": 20,
   "id": "0afe2a2e",
   "metadata": {},
   "outputs": [
    {
     "data": {
      "text/plain": [
       "{'mcpServers': {'filesystem': {'command': 'npx',\n",
       "   'args': ['-y',\n",
       "    '@modelcontextprotocol/server-filesystem',\n",
       "    'C:/Users/dev/Dropbox/GitHub/mcp_local']},\n",
       "  'playwright': {'command': 'npx',\n",
       "   'args': ['@playwright/mcp@latest'],\n",
       "   'transport': 'stdio'},\n",
       "  'everything': {'command': 'npx',\n",
       "   'args': ['-y', '@modelcontextprotocol/server-everything'],\n",
       "   'transport': 'stdio'}}}"
      ]
     },
     "execution_count": 20,
     "metadata": {},
     "output_type": "execute_result"
    }
   ],
   "source": [
    "mcp_servers"
   ]
  },
  {
   "cell_type": "code",
   "execution_count": 1,
   "id": "8d2ad886",
   "metadata": {},
   "outputs": [],
   "source": [
    "import asyncio\n",
    "\n",
    "\n",
    "asyncio.set_event_loop_policy(asyncio.WindowsProactorEventLoopPolicy())"
   ]
  },
  {
   "cell_type": "code",
   "execution_count": 2,
   "id": "7ca42635",
   "metadata": {},
   "outputs": [],
   "source": [
    "from fastmcp.client.transports import NpxStdioTransport\n",
    "# Run an MCP server from an NPM package\n",
    "transport = NpxStdioTransport(\n",
    "    package=\"modelcontextprotocol/server-everything\",\n",
    "    # args=[\"--port\", \"stdio\"] # Optional: pass arguments to the package\n",
    ")"
   ]
  },
  {
   "cell_type": "code",
   "execution_count": 5,
   "id": "6dc7079b",
   "metadata": {},
   "outputs": [
    {
     "data": {
      "text/plain": [
       "<fastmcp.client.client.Client at 0x1f21b5b9010>"
      ]
     },
     "execution_count": 5,
     "metadata": {},
     "output_type": "execute_result"
    }
   ],
   "source": [
    "client = Client(transport)\n",
    "client"
   ]
  },
  {
   "cell_type": "code",
   "execution_count": 6,
   "id": "2c9853ea",
   "metadata": {},
   "outputs": [
    {
     "name": "stderr",
     "output_type": "stream",
     "text": [
      "  + Exception Group Traceback (most recent call last):\n",
      "  |   File \"c:\\Users\\dev\\Dropbox\\GitHub\\mcp_local\\.venv\\Lib\\site-packages\\exceptiongroup\\_catch.py\", line 63, in handle_exception\n",
      "  |     raise matched\n",
      "  | ExceptionGroup:  (1 sub-exception)\n",
      "  +-+---------------- 1 ----------------\n",
      "    | Traceback (most recent call last):\n",
      "    |   File \"c:\\Users\\dev\\Dropbox\\GitHub\\mcp_local\\.venv\\Lib\\site-packages\\IPython\\core\\interactiveshell.py\", line 3668, in run_code\n",
      "    |     await eval(code_obj, self.user_global_ns, self.user_ns)\n",
      "    |   File \"C:\\Users\\dev\\AppData\\Local\\Temp\\ipykernel_60096\\3672051985.py\", line 1, in <module>\n",
      "    |     async with client:\n",
      "    |                ^^^^^^\n",
      "    |   File \"c:\\Users\\dev\\Dropbox\\GitHub\\mcp_local\\.venv\\Lib\\site-packages\\fastmcp\\client\\client.py\", line 187, in __aenter__\n",
      "    |     await stack.enter_async_context(self._context_manager())\n",
      "    |   File \"C:\\Program Files\\Python313\\Lib\\contextlib.py\", line 668, in enter_async_context\n",
      "    |     result = await _enter(cm)\n",
      "    |              ^^^^^^^^^^^^^^^^\n",
      "    |   File \"C:\\Program Files\\Python313\\Lib\\contextlib.py\", line 214, in __aenter__\n",
      "    |     return await anext(self.gen)\n",
      "    |            ^^^^^^^^^^^^^^^^^^^^^\n",
      "    |   File \"c:\\Users\\dev\\Dropbox\\GitHub\\mcp_local\\.venv\\Lib\\site-packages\\exceptiongroup\\_catch.py\", line 65, in handle_exception\n",
      "    |     result = handler(matched)\n",
      "    |   File \"c:\\Users\\dev\\Dropbox\\GitHub\\mcp_local\\.venv\\Lib\\site-packages\\fastmcp\\utilities\\exceptions.py\", line 29, in _exception_handler\n",
      "    |     raise leaf\n",
      "    |   File \"c:\\Users\\dev\\Dropbox\\GitHub\\mcp_local\\.venv\\Lib\\site-packages\\fastmcp\\client\\client.py\", line 165, in _context_manager\n",
      "    |     async with self.transport.connect_session(\n",
      "    |                ~~~~~~~~~~~~~~~~~~~~~~~~~~~~~~^\n",
      "    |         **self._session_kwargs\n",
      "    |         ^^^^^^^^^^^^^^^^^^^^^^\n",
      "    |     ) as session:\n",
      "    |     ^\n",
      "    |   File \"C:\\Program Files\\Python313\\Lib\\contextlib.py\", line 214, in __aenter__\n",
      "    |     return await anext(self.gen)\n",
      "    |            ^^^^^^^^^^^^^^^^^^^^^\n",
      "    |   File \"c:\\Users\\dev\\Dropbox\\GitHub\\mcp_local\\.venv\\Lib\\site-packages\\fastmcp\\client\\transports.py\", line 278, in connect_session\n",
      "    |     async with stdio_client(server_params) as transport:\n",
      "    |                ~~~~~~~~~~~~^^^^^^^^^^^^^^^\n",
      "    |   File \"C:\\Program Files\\Python313\\Lib\\contextlib.py\", line 214, in __aenter__\n",
      "    |     return await anext(self.gen)\n",
      "    |            ^^^^^^^^^^^^^^^^^^^^^\n",
      "    |   File \"c:\\Users\\dev\\Dropbox\\GitHub\\mcp_local\\.venv\\Lib\\site-packages\\mcp\\client\\stdio\\__init__.py\", line 114, in stdio_client\n",
      "    |     process = await _create_platform_compatible_process(\n",
      "    |               ^^^^^^^^^^^^^^^^^^^^^^^^^^^^^^^^^^^^^^^^^^\n",
      "    |     ...<9 lines>...\n",
      "    |     )\n",
      "    |     ^\n",
      "    |   File \"c:\\Users\\dev\\Dropbox\\GitHub\\mcp_local\\.venv\\Lib\\site-packages\\mcp\\client\\stdio\\__init__.py\", line 216, in _create_platform_compatible_process\n",
      "    |     process = await create_windows_process(command, args, env, errlog, cwd)\n",
      "    |               ^^^^^^^^^^^^^^^^^^^^^^^^^^^^^^^^^^^^^^^^^^^^^^^^^^^^^^^^^^^^^\n",
      "    |   File \"c:\\Users\\dev\\Dropbox\\GitHub\\mcp_local\\.venv\\Lib\\site-packages\\mcp\\client\\stdio\\win32.py\", line 85, in create_windows_process\n",
      "    |     process = await anyio.open_process(\n",
      "    |               ^^^^^^^^^^^^^^^^^^^^^^^^^\n",
      "    |         [command, *args], env=env, stderr=errlog, cwd=cwd\n",
      "    |         ^^^^^^^^^^^^^^^^^^^^^^^^^^^^^^^^^^^^^^^^^^^^^^^^^\n",
      "    |     )\n",
      "    |     ^\n",
      "    |   File \"c:\\Users\\dev\\Dropbox\\GitHub\\mcp_local\\.venv\\Lib\\site-packages\\anyio\\_core\\_subprocesses.py\", line 190, in open_process\n",
      "    |     return await get_async_backend().open_process(\n",
      "    |            ^^^^^^^^^^^^^^^^^^^^^^^^^^^^^^^^^^^^^^^\n",
      "    |     ...<11 lines>...\n",
      "    |     )\n",
      "    |     ^\n",
      "    |   File \"c:\\Users\\dev\\Dropbox\\GitHub\\mcp_local\\.venv\\Lib\\site-packages\\anyio\\_backends\\_asyncio.py\", line 2561, in open_process\n",
      "    |     process = await asyncio.create_subprocess_exec(\n",
      "    |               ^^^^^^^^^^^^^^^^^^^^^^^^^^^^^^^^^^^^^\n",
      "    |     ...<5 lines>...\n",
      "    |     )\n",
      "    |     ^\n",
      "    |   File \"C:\\Program Files\\Python313\\Lib\\asyncio\\subprocess.py\", line 224, in create_subprocess_exec\n",
      "    |     transport, protocol = await loop.subprocess_exec(\n",
      "    |                           ^^^^^^^^^^^^^^^^^^^^^^^^^^^\n",
      "    |     ...<3 lines>...\n",
      "    |         stderr=stderr, **kwds)\n",
      "    |         ^^^^^^^^^^^^^^^^^^^^^^\n",
      "    |   File \"C:\\Program Files\\Python313\\Lib\\asyncio\\base_events.py\", line 1788, in subprocess_exec\n",
      "    |     transport = await self._make_subprocess_transport(\n",
      "    |                 ^^^^^^^^^^^^^^^^^^^^^^^^^^^^^^^^^^^^^^\n",
      "    |         protocol, popen_args, False, stdin, stdout, stderr,\n",
      "    |         ^^^^^^^^^^^^^^^^^^^^^^^^^^^^^^^^^^^^^^^^^^^^^^^^^^^\n",
      "    |         bufsize, **kwargs)\n",
      "    |         ^^^^^^^^^^^^^^^^^^\n",
      "    |   File \"C:\\Program Files\\Python313\\Lib\\asyncio\\base_events.py\", line 533, in _make_subprocess_transport\n",
      "    |     raise NotImplementedError\n",
      "    | NotImplementedError\n",
      "    +------------------------------------\n",
      "\n",
      "During handling of the above exception, another exception occurred:\n",
      "\n",
      "Traceback (most recent call last):\n",
      "  File \"c:\\Users\\dev\\Dropbox\\GitHub\\mcp_local\\.venv\\Lib\\site-packages\\IPython\\core\\interactiveshell.py\", line 3668, in run_code\n",
      "    await eval(code_obj, self.user_global_ns, self.user_ns)\n",
      "  File \"C:\\Users\\dev\\AppData\\Local\\Temp\\ipykernel_60096\\3672051985.py\", line 1, in <module>\n",
      "    async with client:\n",
      "               ^^^^^^\n",
      "  File \"c:\\Users\\dev\\Dropbox\\GitHub\\mcp_local\\.venv\\Lib\\site-packages\\fastmcp\\client\\client.py\", line 187, in __aenter__\n",
      "    await stack.enter_async_context(self._context_manager())\n",
      "  File \"C:\\Program Files\\Python313\\Lib\\contextlib.py\", line 668, in enter_async_context\n",
      "    result = await _enter(cm)\n",
      "             ^^^^^^^^^^^^^^^^\n",
      "  File \"C:\\Program Files\\Python313\\Lib\\contextlib.py\", line 214, in __aenter__\n",
      "    return await anext(self.gen)\n",
      "           ^^^^^^^^^^^^^^^^^^^^^\n",
      "  File \"c:\\Users\\dev\\Dropbox\\GitHub\\mcp_local\\.venv\\Lib\\site-packages\\exceptiongroup\\_catch.py\", line 65, in handle_exception\n",
      "    result = handler(matched)\n",
      "  File \"c:\\Users\\dev\\Dropbox\\GitHub\\mcp_local\\.venv\\Lib\\site-packages\\fastmcp\\utilities\\exceptions.py\", line 29, in _exception_handler\n",
      "    raise leaf\n",
      "  File \"c:\\Users\\dev\\Dropbox\\GitHub\\mcp_local\\.venv\\Lib\\site-packages\\fastmcp\\client\\client.py\", line 165, in _context_manager\n",
      "    async with self.transport.connect_session(\n",
      "               ~~~~~~~~~~~~~~~~~~~~~~~~~~~~~~^\n",
      "        **self._session_kwargs\n",
      "        ^^^^^^^^^^^^^^^^^^^^^^\n",
      "    ) as session:\n",
      "    ^\n",
      "  File \"C:\\Program Files\\Python313\\Lib\\contextlib.py\", line 214, in __aenter__\n",
      "    return await anext(self.gen)\n",
      "           ^^^^^^^^^^^^^^^^^^^^^\n",
      "  File \"c:\\Users\\dev\\Dropbox\\GitHub\\mcp_local\\.venv\\Lib\\site-packages\\fastmcp\\client\\transports.py\", line 278, in connect_session\n",
      "    async with stdio_client(server_params) as transport:\n",
      "               ~~~~~~~~~~~~^^^^^^^^^^^^^^^\n",
      "  File \"C:\\Program Files\\Python313\\Lib\\contextlib.py\", line 214, in __aenter__\n",
      "    return await anext(self.gen)\n",
      "           ^^^^^^^^^^^^^^^^^^^^^\n",
      "  File \"c:\\Users\\dev\\Dropbox\\GitHub\\mcp_local\\.venv\\Lib\\site-packages\\mcp\\client\\stdio\\__init__.py\", line 114, in stdio_client\n",
      "    process = await _create_platform_compatible_process(\n",
      "              ^^^^^^^^^^^^^^^^^^^^^^^^^^^^^^^^^^^^^^^^^^\n",
      "    ...<9 lines>...\n",
      "    )\n",
      "    ^\n",
      "  File \"c:\\Users\\dev\\Dropbox\\GitHub\\mcp_local\\.venv\\Lib\\site-packages\\mcp\\client\\stdio\\__init__.py\", line 216, in _create_platform_compatible_process\n",
      "    process = await create_windows_process(command, args, env, errlog, cwd)\n",
      "              ^^^^^^^^^^^^^^^^^^^^^^^^^^^^^^^^^^^^^^^^^^^^^^^^^^^^^^^^^^^^^\n",
      "  File \"c:\\Users\\dev\\Dropbox\\GitHub\\mcp_local\\.venv\\Lib\\site-packages\\mcp\\client\\stdio\\win32.py\", line 85, in create_windows_process\n",
      "    process = await anyio.open_process(\n",
      "              ^^^^^^^^^^^^^^^^^^^^^^^^^\n",
      "        [command, *args], env=env, stderr=errlog, cwd=cwd\n",
      "        ^^^^^^^^^^^^^^^^^^^^^^^^^^^^^^^^^^^^^^^^^^^^^^^^^\n",
      "    )\n",
      "    ^\n",
      "  File \"c:\\Users\\dev\\Dropbox\\GitHub\\mcp_local\\.venv\\Lib\\site-packages\\anyio\\_core\\_subprocesses.py\", line 190, in open_process\n",
      "    return await get_async_backend().open_process(\n",
      "           ^^^^^^^^^^^^^^^^^^^^^^^^^^^^^^^^^^^^^^^\n",
      "    ...<11 lines>...\n",
      "    )\n",
      "    ^\n",
      "  File \"c:\\Users\\dev\\Dropbox\\GitHub\\mcp_local\\.venv\\Lib\\site-packages\\anyio\\_backends\\_asyncio.py\", line 2561, in open_process\n",
      "    process = await asyncio.create_subprocess_exec(\n",
      "              ^^^^^^^^^^^^^^^^^^^^^^^^^^^^^^^^^^^^^\n",
      "    ...<5 lines>...\n",
      "    )\n",
      "    ^\n",
      "  File \"C:\\Program Files\\Python313\\Lib\\asyncio\\subprocess.py\", line 224, in create_subprocess_exec\n",
      "    transport, protocol = await loop.subprocess_exec(\n",
      "                          ^^^^^^^^^^^^^^^^^^^^^^^^^^^\n",
      "    ...<3 lines>...\n",
      "        stderr=stderr, **kwds)\n",
      "        ^^^^^^^^^^^^^^^^^^^^^^\n",
      "  File \"C:\\Program Files\\Python313\\Lib\\asyncio\\base_events.py\", line 1788, in subprocess_exec\n",
      "    transport = await self._make_subprocess_transport(\n",
      "                ^^^^^^^^^^^^^^^^^^^^^^^^^^^^^^^^^^^^^^\n",
      "        protocol, popen_args, False, stdin, stdout, stderr,\n",
      "        ^^^^^^^^^^^^^^^^^^^^^^^^^^^^^^^^^^^^^^^^^^^^^^^^^^^\n",
      "        bufsize, **kwargs)\n",
      "        ^^^^^^^^^^^^^^^^^^\n",
      "  File \"C:\\Program Files\\Python313\\Lib\\asyncio\\base_events.py\", line 533, in _make_subprocess_transport\n",
      "    raise NotImplementedError\n",
      "NotImplementedError\n"
     ]
    }
   ],
   "source": [
    "async with client:\n",
    "    print(f\"Client connected: {client.is_connected()}\")\n",
    "    tools = await client.list_tools()"
   ]
  },
  {
   "cell_type": "code",
   "execution_count": 9,
   "id": "ef1b8fa8",
   "metadata": {},
   "outputs": [
    {
     "name": "stdout",
     "output_type": "stream",
     "text": [
      "Client connected: False\n"
     ]
    }
   ],
   "source": [
    "print(f\"Client connected: {client.is_connected()}\")"
   ]
  }
 ],
 "metadata": {
  "kernelspec": {
   "display_name": ".venv",
   "language": "python",
   "name": "python3"
  },
  "language_info": {
   "codemirror_mode": {
    "name": "ipython",
    "version": 3
   },
   "file_extension": ".py",
   "mimetype": "text/x-python",
   "name": "python",
   "nbconvert_exporter": "python",
   "pygments_lexer": "ipython3",
   "version": "3.13.3"
  }
 },
 "nbformat": 4,
 "nbformat_minor": 5
}
